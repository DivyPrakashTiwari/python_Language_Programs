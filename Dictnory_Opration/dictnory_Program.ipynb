{
 "cells": [
  {
   "cell_type": "code",
   "execution_count": 1,
   "id": "ebac0763",
   "metadata": {
    "scrolled": true
   },
   "outputs": [
    {
     "name": "stdout",
     "output_type": "stream",
     "text": [
      "{'NAME': 'DIVY', 'ROLL': 'CSF21034', 'REGD': 2101020449, 'BRANCH': 'CSF'}\n",
      "<class 'dict'>\n",
      "dict_values(['DIVY', 'CSF21034', 2101020449, 'CSF'])\n",
      "dict_keys(['NAME', 'ROLL', 'REGD', 'BRANCH'])\n",
      "dict_items([('NAME', 'DIVY'), ('ROLL', 'CSF21034'), ('REGD', 2101020449), ('BRANCH', 'CSF')])\n",
      "DIVY\n",
      "{'NAME': 'DIVY', 'ROLL': 'CSESF21034', 'REGD': 2101020449, 'BRANCH': 'CSF', 'ADDitem': 'xyz'}\n",
      "{'NAME': 'DIVY', 'ROLL': 'CSESF21034', 'REGD': 2101020449, 'BRANCH': 'CSF'}\n",
      "{'NAME': 'DIVY', 'ROLL': 'CSESF21034', 'REGD': 2101020449}\n",
      "<class 'dict'>\n"
     ]
    }
   ],
   "source": [
    "dict={\"NAME\":\"DIVY\",\"ROLL\":\"CSF21034\",\"REGD\":2101020449,\"BRANCH\":\"CSF\"}\n",
    "print(dict)\n",
    "print(type(dict))\n",
    "print(dict.values())\n",
    "print(dict.keys())\n",
    "print(dict.items())\n",
    "print(dict[\"NAME\"])\n",
    "dict[\"ADDitem\"]=\"xyz\"\n",
    "dict.update({\"ROLL\":\"CSESF21034\"})\n",
    "print(dict)\n",
    "dict.pop(\"ADDitem\")\n",
    "print(dict)\n",
    "dict.popitem()\n",
    "print(dict)\n",
    "del dict\n",
    "print(dict)"
   ]
  },
  {
   "cell_type": "code",
   "execution_count": 44,
   "id": "60b01e57",
   "metadata": {},
   "outputs": [
    {
     "name": "stdout",
     "output_type": "stream",
     "text": [
      "{'NAME': 'DIVY', 'ROLL': 'CSF21034', 'REGD': 2101020449, 'BRANCH': 'CSF'}\n",
      "NAME\n",
      "ROLL\n",
      "REGD\n",
      "BRANCH\n",
      "DIVY\n",
      "CSF21034\n",
      "2101020449\n",
      "CSF\n",
      "{'NAME': 'DIVY', 'ROLL': 'CSF21034', 'REGD': 2101020449, 'BRANCH': 'CSF'}\n"
     ]
    }
   ],
   "source": [
    "dict={\"NAME\":\"DIVY\",\"ROLL\":\"CSF21034\",\"REGD\":2101020449,\"BRANCH\":\"CSF\"}\n",
    "print(dict)\n",
    "for x in dict:\n",
    "    print(x)\n",
    "for x in dict:\n",
    "    print(dict[x])\n",
    "dict1=dict.copy()\n",
    "print(dict1)"
   ]
  },
  {
   "cell_type": "code",
   "execution_count": 32,
   "id": "d3248063",
   "metadata": {},
   "outputs": [
    {
     "name": "stdout",
     "output_type": "stream",
     "text": [
      "[1, 'abc', 1.0]\n",
      "['abc']\n",
      "[7]\n",
      "[7, 'abc']\n",
      "['abc', 7, 'abc']\n",
      "['divy', 29, 7, 'abc']\n"
     ]
    },
    {
     "data": {
      "text/plain": [
       "4"
      ]
     },
     "execution_count": 32,
     "metadata": {},
     "output_type": "execute_result"
    }
   ],
   "source": [
    "list=[1,\"abc\",1.0,]\n",
    "print(list)\n",
    "list=list[1:2]\n",
    "print(list)\n",
    "list[0]=7\n",
    "print(list)\n",
    "list.append(\"abc\")\n",
    "print(list)\n",
    "list[0:1]=[\"abc\",7]\n",
    "print(list)\n",
    "list[0:1]=[\"divy\",29]\n",
    "print(list)\n",
    "len(list)\n"
   ]
  },
  {
   "cell_type": "code",
   "execution_count": 64,
   "id": "eef2dbc4",
   "metadata": {},
   "outputs": [],
   "source": [
    "#1 wap\n",
    "#2 wap to remove a key from the dict\n",
    "#3 wap to * all the items in a dict\n",
    "#4 wap to iteratre over dict using for loop\n",
    "#5 wap to merge 2 dict\n",
    "#6 wap to print a dict were keys our numbers between 1 and 15 (both inculeded and values are square of each)\n",
    "\n",
    "\n"
   ]
  },
  {
   "cell_type": "code",
   "execution_count": 9,
   "id": "e9df1ef0",
   "metadata": {},
   "outputs": [
    {
     "name": "stdout",
     "output_type": "stream",
     "text": [
      "{'child1': {'name': 'shikha', 'dob': 2001}, 'child2': {'name': 'nisha', 'dob': 2002}, 'child3': {'NAME': 'DIVY', 'ROLL': 'CSF21034', 'REGD': 2101020449, 'BRANCH': 'CSF'}}\n",
      "{'child1': 'shikha', 'child2': dict_keys(['name', 'dob']), 'child3': dict_values(['DIVY', 'CSF21034', 2101020449, 'CSF'])}\n",
      "{'child1': {'name': 'shikha ranjan', 'dob': 2001}, 'child2': dict_items([('name', 'nisha'), ('dob', 2002)]), 'child3': dict_values(['DIVY', 'CSF21034', 2101020449, 'CSF'])}\n",
      "{'child1': None, 'child2': dict_items([('name', 'nisha'), ('dob', 2002)]), 'child3': dict_values(['DIVY', 'CSF21034', 2101020449, 'CSF'])}\n"
     ]
    },
    {
     "data": {
      "text/plain": [
       "<function print>"
      ]
     },
     "execution_count": 9,
     "metadata": {},
     "output_type": "execute_result"
    }
   ],
   "source": [
    "child11={\"name\":\"shikha\",\"dob\":2001}\n",
    "child22={\"name\":\"nisha\",\"dob\":2002}\n",
    "child33={\"NAME\":\"DIVY\",\"ROLL\":\"CSF21034\",\"REGD\":2101020449,\"BRANCH\":\"CSF\"}\n",
    "myfam={\"child1\":child11,\"child2\":child22,\"child3\":child33}\n",
    "print(myfam)\n",
    "myfam={\"child1\":child11[\"name\"],\"child2\":child22.keys(),\"child3\":child33.values()}\n",
    "print(myfam)\n",
    "child11.update({\"name\":\"shikha ranjan\"})\n",
    "myfam={\"child1\":child11,\"child2\":child22.items(),\"child3\":child33.values()}\n",
    "print(myfam)\n",
    "myfam={\"child1\":child11.update({\"name\":\"shikha ranjan\"}),\"child2\":child22.items(),\"child3\":child33.values()}\n",
    "print(myfam)\n",
    "print"
   ]
  },
  {
   "cell_type": "code",
   "execution_count": 78,
   "id": "1a49753b",
   "metadata": {},
   "outputs": [
    {
     "name": "stdout",
     "output_type": "stream",
     "text": [
      "8932\n",
      "8932\n"
     ]
    }
   ],
   "source": [
    "dict={1:7,2:4,3:29,4:11}\n",
    "p=1\n",
    "for i in range(1,5):\n",
    "    n=dict[i]\n",
    "    p=p*n\n",
    "print(p)\n",
    "p=1\n",
    "for i in dict:\n",
    "    p=p*dict[i]\n",
    "print(p)\n"
   ]
  },
  {
   "cell_type": "code",
   "execution_count": 5,
   "id": "ede80d60",
   "metadata": {},
   "outputs": [
    {
     "name": "stdout",
     "output_type": "stream",
     "text": [
      "{'NAME': 'DIVY', 'ROLL': 'CSF21034', 'REGD': 2101020449, 'BRANCH': 'CSF'}\n",
      "NAME:ROLL:REGD:BRANCH:\n",
      "DIVY:CSF21034:2101020449:CSF:"
     ]
    }
   ],
   "source": [
    "dict={\"NAME\":\"DIVY\",\"ROLL\":\"CSF21034\",\"REGD\":2101020449,\"BRANCH\":\"CSF\"}\n",
    "print(dict)\n",
    "for x in dict:\n",
    "    print(x,end=\":\")\n",
    "print(\"\")    \n",
    "for x in dict:\n",
    "    print(dict[x],end=\":\")"
   ]
  },
  {
   "cell_type": "code",
   "execution_count": 84,
   "id": "a5e97063",
   "metadata": {},
   "outputs": [
    {
     "name": "stdout",
     "output_type": "stream",
     "text": [
      "{1: 1, 2: 2, 3: 3, 4: 4, 11: 11, 22: 22, 33: 33, 44: 44}\n"
     ]
    }
   ],
   "source": [
    "dict1={1:1,2:2,3:3,4:4}\n",
    "dict2={11:11,22:22,33:33,44:44}\n",
    "dict1.update(dict2)\n",
    "print(dict1)"
   ]
  },
  {
   "cell_type": "code",
   "execution_count": 3,
   "id": "5e4b30ed",
   "metadata": {},
   "outputs": [
    {
     "name": "stdout",
     "output_type": "stream",
     "text": [
      "{1: 1, 2: 4, 3: 9, 4: 16, 5: 25, 6: 36, 7: 49, 8: 64, 9: 81, 10: 100, 11: 121, 12: 144, 13: 169, 14: 196, 15: 225}\n"
     ]
    }
   ],
   "source": [
    "dict1={1:0,2:0,3:0,4:0,5:0,6:0,7:0,8:0,9:0,10:0,11:0,12:0,13:0,14:0,15:0}\n",
    "for i in range(1,16):\n",
    "    p=i**2\n",
    "    dict1[i]=p\n",
    "print(dict1)"
   ]
  },
  {
   "cell_type": "code",
   "execution_count": 5,
   "id": "595a2bc0",
   "metadata": {},
   "outputs": [
    {
     "name": "stdout",
     "output_type": "stream",
     "text": [
      "{1: 1, 2: 4, 3: 9, 4: 16, 5: 25, 6: 36, 7: 49, 8: 64, 9: 81, 10: 100, 11: 121, 12: 144, 13: 169, 14: 196, 15: 225}\n"
     ]
    }
   ],
   "source": [
    "dict1={1:0,2:0,3:0,4:0,5:0,6:0,7:0,8:0,9:0,10:0,11:0,12:0,13:0,14:0,15:0}\n",
    "i=1\n",
    "while(i!=16):\n",
    "    p=i**2\n",
    "    dict1[i]=p\n",
    "    i=i+1\n",
    "print(dict1)"
   ]
  },
  {
   "cell_type": "code",
   "execution_count": null,
   "id": "a70f2335",
   "metadata": {},
   "outputs": [],
   "source": []
  }
 ],
 "metadata": {
  "kernelspec": {
   "display_name": "Python 3 (ipykernel)",
   "language": "python",
   "name": "python3"
  },
  "language_info": {
   "codemirror_mode": {
    "name": "ipython",
    "version": 3
   },
   "file_extension": ".py",
   "mimetype": "text/x-python",
   "name": "python",
   "nbconvert_exporter": "python",
   "pygments_lexer": "ipython3",
   "version": "3.11.7"
  }
 },
 "nbformat": 4,
 "nbformat_minor": 5
}
