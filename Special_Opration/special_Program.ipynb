{
 "cells": [
  {
   "cell_type": "code",
   "execution_count": null,
   "id": "5bb9c65f",
   "metadata": {},
   "outputs": [],
   "source": [
    "4 10 13 19"
   ]
  },
  {
   "cell_type": "code",
   "execution_count": 4,
   "id": "3a2295aa",
   "metadata": {},
   "outputs": [
    {
     "name": "stdout",
     "output_type": "stream",
     "text": [
      "Enter the number to be checked5295\n",
      "no, 5295 is not anarmstrong number\n"
     ]
    }
   ],
   "source": [
    "n =int(input(\"Enter the number to be checked\"))\n",
    "s=0\n",
    "i=n\n",
    "while(n!=0):\n",
    "    r=n%10\n",
    "    p=r*r*r\n",
    "    s=s+p\n",
    "    n=n//10\n",
    "if(s==i):\n",
    "    print(\"yes,\",s,\"is an armstrong number\")\n",
    "else:\n",
    "    print(\"no,\",i,\"is not anarmstrong number\")"
   ]
  },
  {
   "cell_type": "code",
   "execution_count": 5,
   "id": "40151189",
   "metadata": {},
   "outputs": [
    {
     "name": "stdout",
     "output_type": "stream",
     "text": [
      "Enter the size of the list5\n",
      "enter element to list\n",
      "7\n",
      "2\n",
      "9\n",
      "20\n",
      "11\n",
      "even numbers are\n",
      "2\n",
      "20\n"
     ]
    }
   ],
   "source": [
    "n=int(input(\"Enter the size of the list\"))\n",
    "print(\"enter element to list\")\n",
    "l=[]\n",
    "for i in range(n):\n",
    "    a=int(input())\n",
    "    l.append(a)\n",
    "print(\"even numbers are\")\n",
    "for i in range(n):\n",
    "    if(l[i]%2==0):\n",
    "        print(l[i])\n",
    "        "
   ]
  },
  {
   "cell_type": "code",
   "execution_count": 4,
   "id": "3496c607",
   "metadata": {},
   "outputs": [
    {
     "name": "stdout",
     "output_type": "stream",
     "text": [
      "Enter the size of the list5\n",
      "enter element to list\n",
      "1\n",
      "2\n",
      "3\n",
      "4\n",
      "5\n",
      "[1, 2, 3, 4, 5]\n",
      "the given list is not in ascending order\n"
     ]
    }
   ],
   "source": [
    "n=int(input(\"Enter the size of the list\"))\n",
    "print(\"enter element to list\")\n",
    "l=[]\n",
    "a=[]\n",
    "for i in range(n):\n",
    "    a=int(input())\n",
    "    l.append(a)\n",
    "a=l\n",
    "a.sort()\n",
    "print(a)\n",
    "if(a==l):\n",
    "    print(\"the given list is not in ascending order\")\n",
    "else:\n",
    "     print(\"the given list is in ascending order\")"
   ]
  },
  {
   "cell_type": "code",
   "execution_count": 8,
   "id": "bc546e0f",
   "metadata": {},
   "outputs": [
    {
     "name": "stdout",
     "output_type": "stream",
     "text": [
      "Enter the number to be reversed69\n",
      "the reverse of the number is\n",
      "96"
     ]
    }
   ],
   "source": [
    "n =int(input(\"Enter the number to be reversed\"))\n",
    "s=0\n",
    "print(\"the reverse of the number is\")\n",
    "while(n!=0):\n",
    "    r=n%10\n",
    "    print(r,end=\"\")\n",
    "    n=n//10"
   ]
  },
  {
   "cell_type": "code",
   "execution_count": 6,
   "id": "633500cc",
   "metadata": {},
   "outputs": [
    {
     "name": "stdout",
     "output_type": "stream",
     "text": [
      "WELCOME TO THE CURRENCY CONVERTER\n",
      "INITALS OF THE CURRENCY\n",
      "USD\n",
      "EUR\n",
      "INR\n",
      "THB\n",
      "CAD\n",
      "Input initals of the currency you want to convert:usd\n",
      "Input initials of the currency you want your money to be converted to:inr\n",
      "Input the amount of to be converted:77\n",
      "The money was in USD currency and converted to INR currency.\n",
      "77.0 USD ------> 6016.78 INR\n",
      "Do you want to convert more currency ; YES OR NO\n",
      "yes\n",
      "THANK YOU ; HAVE A GREAT DAY AHEAD\n"
     ]
    }
   ],
   "source": [
    "# GROUP 10\n",
    "# Project :- Currency Converter\n",
    "#Currency Convertor\n",
    "def conver(x,y,m):\n",
    "    if x==\"USD\":\n",
    "        if y==\"EUR\" :\n",
    "            m=0.95*m\n",
    "            return m\n",
    "        elif y==\"INR\" :\n",
    "            m=78.14*m\n",
    "            return m\n",
    "        elif y==\"THB\" :\n",
    "            m=34.71*m\n",
    "            return m\n",
    "        elif y==\"CAD\":\n",
    "            m=1.28*m\n",
    "            return m\n",
    "        else:\n",
    "            return m\n",
    "    elif x==\"EUR\":\n",
    "        if y==\"USD\" :\n",
    "            m=1.05*m\n",
    "            return m\n",
    "        elif y==\"INR\" :\n",
    "            m=82.21*m\n",
    "            return m\n",
    "        elif y==\"THB\":\n",
    "            m=36.52*m\n",
    "            return m\n",
    "        elif y==\"CAD\":\n",
    "            m=1.34*m\n",
    "            return m\n",
    "        else:\n",
    "            return m\n",
    "    elif x==\"INR\":\n",
    "        if y==\"USD\":\n",
    "            m=0.013*m\n",
    "            return m\n",
    "        elif y==\"EUR\":\n",
    "            m=0.012*m\n",
    "            return m\n",
    "        elif y==\"THB\":\n",
    "            m=0.44*m\n",
    "            return m\n",
    "        elif y==\"CAD\":\n",
    "            m=0.016*m\n",
    "            return m\n",
    "        else:\n",
    "            return m\n",
    "    elif x==\"THB\":\n",
    "        if y==\"USD\":\n",
    "            m=0.029*m\n",
    "            return m\n",
    "        elif y==\"EUR\":\n",
    "            m=0.027*m\n",
    "            return m\n",
    "        elif y==\"INR\" :\n",
    "            m=2.25*m\n",
    "            return m\n",
    "        elif y==\"CAD\":\n",
    "            m=0.037*m\n",
    "            return m\n",
    "        else:\n",
    "            return m\n",
    "    elif x==\"CAD\":\n",
    "        if y==\"USD\":\n",
    "            m=0.78*m\n",
    "            return m\n",
    "        elif y==\"EUR\":\n",
    "            m=0.74*m\n",
    "            return m\n",
    "        elif y==\"INR\":\n",
    "            m=61.19*m\n",
    "            return m\n",
    "        elif y==\"THB\":\n",
    "            m=27.18*m\n",
    "            return m\n",
    "        else:\n",
    "            return m\n",
    "    else:\n",
    "        exit()\n",
    "'_main_'\n",
    "print(\"WELCOME TO THE CURRENCY CONVERTER\")\n",
    "print(\"INITALS OF THE CURRENCY\")\n",
    "print(\"USD\")\n",
    "print(\"EUR\")\n",
    "print(\"INR\")\n",
    "print(\"THB\")\n",
    "print(\"CAD\")\n",
    "op=\"YES\"\n",
    "while(op==\"YES\"):\n",
    "    om=input(\"Input initals of the currency you want to convert:\")\n",
    "    om=om.upper()\n",
    "    cm=input(\"Input initials of the currency you want your money to be converted to:\")\n",
    "    cm=cm.upper()\n",
    "    ma=float(input(\"Input the amount of to be converted:\"))\n",
    "    con=conver(om,cm,ma)\n",
    "    print(\"The money was in\",om,\"currency and converted to\",cm,\"currency.\")\n",
    "    print(ma,om,\"------>\",con,cm)\n",
    "    print(\"Do you want to convert more currency ; YES OR NO\")\n",
    "    op=input(\"\")\n",
    "    op=op.upper()\n",
    "print(\"THANK YOU ; HAVE A GREAT DAY AHEAD\")"
   ]
  },
  {
   "cell_type": "code",
   "execution_count": null,
   "id": "d700b679",
   "metadata": {},
   "outputs": [],
   "source": []
  },
  {
   "cell_type": "code",
   "execution_count": null,
   "id": "a3b4d91b",
   "metadata": {},
   "outputs": [],
   "source": []
  }
 ],
 "metadata": {
  "kernelspec": {
   "display_name": "Python 3 (ipykernel)",
   "language": "python",
   "name": "python3"
  },
  "language_info": {
   "codemirror_mode": {
    "name": "ipython",
    "version": 3
   },
   "file_extension": ".py",
   "mimetype": "text/x-python",
   "name": "python",
   "nbconvert_exporter": "python",
   "pygments_lexer": "ipython3",
   "version": "3.9.7"
  }
 },
 "nbformat": 4,
 "nbformat_minor": 5
}
