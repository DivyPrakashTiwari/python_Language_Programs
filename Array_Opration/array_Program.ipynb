{
 "cells": [
  {
   "cell_type": "code",
   "execution_count": 2,
   "id": "924ba9b3",
   "metadata": {},
   "outputs": [
    {
     "name": "stdout",
     "output_type": "stream",
     "text": [
      "[ 10  20  30  40  50  60  70  80  90 100]\n"
     ]
    }
   ],
   "source": [
    "import numpy as np\n",
    "arr1 = np.array([10,20,30,40,50,60,70,80,90,100])\n",
    "print(arr1)"
   ]
  },
  {
   "cell_type": "code",
   "execution_count": 78,
   "id": "39634432",
   "metadata": {},
   "outputs": [
    {
     "name": "stdout",
     "output_type": "stream",
     "text": [
      "[[10.  20.  30.  40. ]\n",
      " [ 1.   2.   3.   4. ]\n",
      " [ 1.1  2.2  3.3  4.4]]\n",
      "2.2\n"
     ]
    }
   ],
   "source": [
    "import numpy as np\n",
    "arr2 = np.array([[10,20,30,40],[1,2,3,4],[1.1,2.2,3.3,4.4]])\n",
    "print (arr2)\n",
    "n=arr2[2,1]\n",
    "print(n)"
   ]
  },
  {
   "cell_type": "code",
   "execution_count": 76,
   "id": "2a4063dd",
   "metadata": {},
   "outputs": [
    {
     "name": "stdout",
     "output_type": "stream",
     "text": [
      "[[[ 10.    20.    30.    40.  ]\n",
      "  [  1.     2.     3.     4.  ]\n",
      "  [  1.1    2.2    3.3    4.4 ]]\n",
      "\n",
      " [[ 11.    22.    33.    44.  ]\n",
      "  [111.   222.   333.   444.  ]\n",
      "  [ 11.1   22.2   33.3   44.4 ]]\n",
      "\n",
      " [[100.   200.   300.   400.  ]\n",
      "  [101.   201.   301.   401.  ]\n",
      "  [  1.11   2.22   3.33   4.44]]]\n",
      "444.0\n"
     ]
    }
   ],
   "source": [
    "import numpy as np\n",
    "arr3 = np.array([[[10,20,30,40],[1,2,3,4],[1.1,2.2,3.3,4.4]],[[11,22,33,44],[111,222,333,444],[11.1,22.2,33.3,44.4]],[[100,200,300,400],[101,201,301,401],[1.11,2.22,3.33,4.44]]])\n",
    "print (arr3)\n",
    "print (arr3[1,1,3])"
   ]
  },
  {
   "cell_type": "code",
   "execution_count": 18,
   "id": "def54af4",
   "metadata": {},
   "outputs": [
    {
     "name": "stdout",
     "output_type": "stream",
     "text": [
      "[10 20 30 40]\n",
      "(4,)\n"
     ]
    }
   ],
   "source": [
    "import numpy as np\n",
    "arr1 = np.array([10,20,30,40])\n",
    "print (arr1)\n",
    "print(arr1.shape)"
   ]
  },
  {
   "cell_type": "code",
   "execution_count": 19,
   "id": "69d3edaa",
   "metadata": {},
   "outputs": [
    {
     "name": "stdout",
     "output_type": "stream",
     "text": [
      "[[10.  20.  30.  40. ]\n",
      " [ 1.   2.   3.   4. ]\n",
      " [ 1.1  2.2  3.3  4.4]]\n",
      "2.2\n",
      "(3, 4)\n"
     ]
    }
   ],
   "source": [
    "import numpy as np\n",
    "arr2 = np.array([[10,20,30,40],[1,2,3,4],[1.1,2.2,3.3,4.4]])\n",
    "print (arr2)\n",
    "n=arr2[2,1]\n",
    "print(n)\n",
    "print(arr2.shape)"
   ]
  },
  {
   "cell_type": "code",
   "execution_count": 20,
   "id": "f194a9ed",
   "metadata": {},
   "outputs": [
    {
     "name": "stdout",
     "output_type": "stream",
     "text": [
      "[[[ 10.    20.    30.    40.  ]\n",
      "  [  1.     2.     3.     4.  ]\n",
      "  [  1.1    2.2    3.3    4.4 ]]\n",
      "\n",
      " [[ 11.    22.    33.    44.  ]\n",
      "  [111.   222.   333.   444.  ]\n",
      "  [ 11.1   22.2   33.3   44.4 ]]\n",
      "\n",
      " [[100.   200.   300.   400.  ]\n",
      "  [101.   201.   301.   401.  ]\n",
      "  [  1.11   2.22   3.33   4.44]]]\n",
      "444.0\n",
      "(3, 3, 4)\n"
     ]
    }
   ],
   "source": [
    "import numpy as np\n",
    "arr3 = np.array([[[10,20,30,40],[1,2,3,4],[1.1,2.2,3.3,4.4]],[[11,22,33,44],[111,222,333,444],[11.1,22.2,33.3,44.4]],[[100,200,300,400],[101,201,301,401],[1.11,2.22,3.33,4.44]]])\n",
    "print (arr3)\n",
    "print (arr3[1,1,3])\n",
    "print(arr3.shape)"
   ]
  },
  {
   "cell_type": "code",
   "execution_count": 23,
   "id": "a3360abb",
   "metadata": {},
   "outputs": [
    {
     "name": "stdout",
     "output_type": "stream",
     "text": [
      "[ 10  20  30  40  50  60  70  80  90 100]\n",
      "[[ 10  20  30  40  50]\n",
      " [ 60  70  80  90 100]]\n"
     ]
    }
   ],
   "source": [
    "import numpy as np\n",
    "arr4 = np.array([10,20,30,40,50,60,70,80,90,100])\n",
    "arr4=arr4.reshape(2,5)\n",
    "print(arr4)\n",
    "\n"
   ]
  },
  {
   "cell_type": "code",
   "execution_count": 4,
   "id": "515a4ea4",
   "metadata": {},
   "outputs": [
    {
     "name": "stdout",
     "output_type": "stream",
     "text": [
      "[[ 10  20  30  40  50]\n",
      " [ 60  70  80  90 100]]\n",
      "[[ 10  20  30  40  50  60  70  80  90 100]]\n"
     ]
    }
   ],
   "source": [
    "import numpy as np\n",
    "arr4 = np.array([10,20,30,40,50,60,70,80,90,100])\n",
    "arr4=arr4.reshape(2,5)\n",
    "print(arr4)\n",
    "arr4=arr4.reshape(1,10)\n",
    "print(arr4)"
   ]
  },
  {
   "cell_type": "code",
   "execution_count": 39,
   "id": "21e8c232",
   "metadata": {},
   "outputs": [
    {
     "name": "stdout",
     "output_type": "stream",
     "text": [
      "[[[ 10  20  30  40]\n",
      "  [ 50  60  70  80]]\n",
      "\n",
      " [[ 90 100 110 120]\n",
      "  [130 140 150 160]]\n",
      "\n",
      " [[170 180 190 200]\n",
      "  [210 220 230 240]]]\n"
     ]
    }
   ],
   "source": [
    "import numpy as np\n",
    "arr4 = np.array([10,20,30,40,50,60,70,80,90,100,110,120,130,140,150,160,170,180,190,200,210,220,230,240])\n",
    "arr4=arr4.reshape(3,2,4)\n",
    "print(arr4)\n",
    "#the multiple of length of the martix will give the matrix"
   ]
  },
  {
   "cell_type": "code",
   "execution_count": 45,
   "id": "6cbbe810",
   "metadata": {},
   "outputs": [
    {
     "name": "stdout",
     "output_type": "stream",
     "text": [
      "[[0. 0. 0.]\n",
      " [0. 0. 0.]\n",
      " [0. 0. 0.]\n",
      " [0. 0. 0.]]\n"
     ]
    }
   ],
   "source": [
    "import numpy as np\n",
    "arr1 = np.zeros([4,3])\n",
    "print (arr1)"
   ]
  },
  {
   "cell_type": "code",
   "execution_count": 52,
   "id": "59739e1c",
   "metadata": {},
   "outputs": [
    {
     "name": "stdout",
     "output_type": "stream",
     "text": [
      "[[[1. 1.]\n",
      "  [1. 1.]]\n",
      "\n",
      " [[1. 1.]\n",
      "  [1. 1.]]\n",
      "\n",
      " [[1. 1.]\n",
      "  [1. 1.]]]\n"
     ]
    }
   ],
   "source": [
    "import numpy as np\n",
    "arr1 = np.ones([3,2,2])\n",
    "print (arr1)"
   ]
  },
  {
   "cell_type": "code",
   "execution_count": 53,
   "id": "e1b006fa",
   "metadata": {},
   "outputs": [
    {
     "name": "stdout",
     "output_type": "stream",
     "text": [
      "[[[9 9]\n",
      "  [9 9]]\n",
      "\n",
      " [[9 9]\n",
      "  [9 9]]\n",
      "\n",
      " [[9 9]\n",
      "  [9 9]]]\n"
     ]
    }
   ],
   "source": [
    "import numpy as np\n",
    "arr1 = np.full([3,2,2],9)\n",
    "print (arr1)"
   ]
  },
  {
   "cell_type": "code",
   "execution_count": 64,
   "id": "483edb7f",
   "metadata": {},
   "outputs": [
    {
     "name": "stdout",
     "output_type": "stream",
     "text": [
      "[[1. 0. 0. 0.]\n",
      " [0. 1. 0. 0.]\n",
      " [0. 0. 1. 0.]\n",
      " [0. 0. 0. 1.]]\n"
     ]
    }
   ],
   "source": [
    "import numpy as np\n",
    "arr1 = np.eye(4)\n",
    "print (arr1)"
   ]
  },
  {
   "cell_type": "code",
   "execution_count": 69,
   "id": "617750d7",
   "metadata": {},
   "outputs": [
    {
     "name": "stdout",
     "output_type": "stream",
     "text": [
      "[11 22 33 44]\n",
      "[ 9 18 27 36]\n",
      "[ 10  40  90 160]\n",
      "[10 10 10 10]\n"
     ]
    }
   ],
   "source": [
    "import numpy as np\n",
    "arr1 = np.array([10,20,30,40])\n",
    "arr2 = np.array([1,2,3,4])\n",
    "arr3=arr1+arr2\n",
    "arr4=arr1-arr2\n",
    "arr5=arr1*arr2\n",
    "arr6=arr1//arr2\n",
    "print (arr3)\n",
    "print (arr4)\n",
    "print (arr5)\n",
    "print (arr6)"
   ]
  },
  {
   "cell_type": "code",
   "execution_count": 9,
   "id": "1096783b",
   "metadata": {},
   "outputs": [
    {
     "name": "stdout",
     "output_type": "stream",
     "text": [
      "[[11 22 33 44]\n",
      " [12 24 36 48]]\n",
      "[[ -9 -18 -27 -36]\n",
      " [ 10  20  30  40]]\n",
      "[[ 10  40  90 160]\n",
      " [ 11  44  99 176]]\n",
      "[[ 0  0  0  0]\n",
      " [11 11 11 11]]\n"
     ]
    }
   ],
   "source": [
    "import numpy as np\n",
    "arr1 = np.array([[1,2,3,4],[11,22,33,44]])\n",
    "arr2 = np.array([[10,20,30,40],[1,2,3,4]])\n",
    "arr3=arr1+arr2\n",
    "arr4=arr1-arr2\n",
    "arr5=arr1*arr2\n",
    "arr6=arr1//arr2\n",
    "print (arr3)\n",
    "print (arr4)\n",
    "print (arr5)\n",
    "print (arr6)\n",
    "\n"
   ]
  },
  {
   "cell_type": "code",
   "execution_count": 13,
   "id": "0cf44b79",
   "metadata": {},
   "outputs": [
    {
     "name": "stdout",
     "output_type": "stream",
     "text": [
      "[[[ 20.    40.    60.    80.  ]\n",
      "  [  2.     4.     6.     8.  ]\n",
      "  [  2.2    4.4    6.6    8.8 ]]\n",
      "\n",
      " [[ 22.    44.    66.    88.  ]\n",
      "  [222.   444.   666.   888.  ]\n",
      "  [ 22.2   44.4   66.6   88.8 ]]\n",
      "\n",
      " [[200.   400.   600.   800.  ]\n",
      "  [202.   402.   602.   802.  ]\n",
      "  [  2.22   4.44   6.66   8.88]]]\n",
      "[[[0. 0. 0. 0.]\n",
      "  [0. 0. 0. 0.]\n",
      "  [0. 0. 0. 0.]]\n",
      "\n",
      " [[0. 0. 0. 0.]\n",
      "  [0. 0. 0. 0.]\n",
      "  [0. 0. 0. 0.]]\n",
      "\n",
      " [[0. 0. 0. 0.]\n",
      "  [0. 0. 0. 0.]\n",
      "  [0. 0. 0. 0.]]]\n",
      "[[[1.00000e+02 4.00000e+02 9.00000e+02 1.60000e+03]\n",
      "  [1.00000e+00 4.00000e+00 9.00000e+00 1.60000e+01]\n",
      "  [1.21000e+00 4.84000e+00 1.08900e+01 1.93600e+01]]\n",
      "\n",
      " [[1.21000e+02 4.84000e+02 1.08900e+03 1.93600e+03]\n",
      "  [1.23210e+04 4.92840e+04 1.10889e+05 1.97136e+05]\n",
      "  [1.23210e+02 4.92840e+02 1.10889e+03 1.97136e+03]]\n",
      "\n",
      " [[1.00000e+04 4.00000e+04 9.00000e+04 1.60000e+05]\n",
      "  [1.02010e+04 4.04010e+04 9.06010e+04 1.60801e+05]\n",
      "  [1.23210e+00 4.92840e+00 1.10889e+01 1.97136e+01]]]\n",
      "[[[1. 1. 1. 1.]\n",
      "  [1. 1. 1. 1.]\n",
      "  [1. 1. 1. 1.]]\n",
      "\n",
      " [[1. 1. 1. 1.]\n",
      "  [1. 1. 1. 1.]\n",
      "  [1. 1. 1. 1.]]\n",
      "\n",
      " [[1. 1. 1. 1.]\n",
      "  [1. 1. 1. 1.]\n",
      "  [1. 1. 1. 1.]]]\n"
     ]
    }
   ],
   "source": [
    "import numpy as np\n",
    "arr1 = np.array([[[10,20,30,40],[1,2,3,4],[1.1,2.2,3.3,4.4]],[[11,22,33,44],[111,222,333,444],[11.1,22.2,33.3,44.4]],[[100,200,300,400],[101,201,301,401],[1.11,2.22,3.33,4.44]]])\n",
    "arr2 = np.array([[[10,20,30,40],[1,2,3,4],[1.1,2.2,3.3,4.4]],[[11,22,33,44],[111,222,333,444],[11.1,22.2,33.3,44.4]],[[100,200,300,400],[101,201,301,401],[1.11,2.22,3.33,4.44]]])\n",
    "arr3=arr1+arr2\n",
    "arr4=arr1-arr2\n",
    "arr5=arr1*arr2\n",
    "arr6=arr1//arr2\n",
    "print (arr3)\n",
    "print (arr4)\n",
    "print (arr5)\n",
    "print (arr6)"
   ]
  },
  {
   "cell_type": "code",
   "execution_count": 34,
   "id": "63a590c8",
   "metadata": {},
   "outputs": [
    {
     "name": "stdout",
     "output_type": "stream",
     "text": [
      "enter the size of array4\n",
      "enter the number6\n",
      "enter the number7\n",
      "enter the number7\n",
      "enter the number9\n",
      "[]\n"
     ]
    }
   ],
   "source": [
    "\n",
    "n=int(input(\"enter the size of array\"))\n",
    "arr=[]\n",
    "for i in range(0,n):\n",
    "    e=int(input(\"enter the number\"))\n",
    "print(arr)"
   ]
  },
  {
   "cell_type": "code",
   "execution_count": null,
   "id": "78c4e0bb",
   "metadata": {},
   "outputs": [],
   "source": []
  },
  {
   "cell_type": "code",
   "execution_count": null,
   "id": "9e406db5",
   "metadata": {},
   "outputs": [],
   "source": []
  }
 ],
 "metadata": {
  "kernelspec": {
   "display_name": "Python 3 (ipykernel)",
   "language": "python",
   "name": "python3"
  },
  "language_info": {
   "codemirror_mode": {
    "name": "ipython",
    "version": 3
   },
   "file_extension": ".py",
   "mimetype": "text/x-python",
   "name": "python",
   "nbconvert_exporter": "python",
   "pygments_lexer": "ipython3",
   "version": "3.9.7"
  }
 },
 "nbformat": 4,
 "nbformat_minor": 5
}
