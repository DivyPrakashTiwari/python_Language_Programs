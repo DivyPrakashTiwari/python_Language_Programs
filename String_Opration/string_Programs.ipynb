{
 "cells": [
  {
   "cell_type": "code",
   "execution_count": 1,
   "id": "4ccf27d6",
   "metadata": {},
   "outputs": [
    {
     "name": "stdout",
     "output_type": "stream",
     "text": [
      "enetr the stringdivy\n",
      "DIVY\n"
     ]
    }
   ],
   "source": [
    "s=input(\"enetr the string\")\n",
    "print(s.upper())"
   ]
  },
  {
   "cell_type": "code",
   "execution_count": 1,
   "id": "db559ca6",
   "metadata": {},
   "outputs": [
    {
     "name": "stdout",
     "output_type": "stream",
     "text": [
      "enter the stringMY NAME IS KHAN ABDUL GAFAR KHAN \n",
      "MY\n",
      "NAME\n",
      "IS\n",
      "ABDUL\n",
      "GAFAR\n"
     ]
    }
   ],
   "source": [
    "s=input(\"enter the string\")\n",
    "sp=s.split()\n",
    "l=len(sp)\n",
    "ln=[]\n",
    "for i in range(0,l):\n",
    "    n=sp.count(sp[i])\n",
    "    ln.append(n)\n",
    "for i in range(0,l):\n",
    "    if(ln[i]<=1):\n",
    "        print(sp[i])"
   ]
  },
  {
   "cell_type": "code",
   "execution_count": 1,
   "id": "f8e97e44",
   "metadata": {},
   "outputs": [
    {
     "name": "stdout",
     "output_type": "stream",
     "text": [
      "enter the stringying bing zing\n",
      "ying#bing#zing\n"
     ]
    }
   ],
   "source": [
    "s=input(\"enter the string\")\n",
    "print(s.replace(\" \",\"#\"))"
   ]
  },
  {
   "cell_type": "code",
   "execution_count": 10,
   "id": "b7128254",
   "metadata": {},
   "outputs": [
    {
     "name": "stdout",
     "output_type": "stream",
     "text": [
      "enter the 1 stringfyvnfjuy\n",
      "enter the 2 stringfhjtryili\n",
      "common elements are\n",
      "f\n",
      "y\n",
      "f\n",
      "j\n",
      "y\n"
     ]
    }
   ],
   "source": [
    "s1=input(\"enter the 1 string\")\n",
    "s2=input(\"enter the 2 string\")\n",
    "s1.lower()\n",
    "s2.lower()\n",
    "l1=len(s1)\n",
    "l2=len(s2)\n",
    "ln=[]\n",
    "print(\"common elements are\")\n",
    "for i in range(0,l1):\n",
    "    for j in range(0,l2):\n",
    "        if(s1[i]==s2[j]):\n",
    "            ln.append(s1[i])\n",
    "ln1=len(ln)\n",
    "for i in range(0,ln1):\n",
    "    print(ln[i])\n",
    "    i=i+1\n",
    "            \n",
    "\n"
   ]
  },
  {
   "cell_type": "code",
   "execution_count": 2,
   "id": "a6005e7c",
   "metadata": {},
   "outputs": [
    {
     "name": "stdout",
     "output_type": "stream",
     "text": [
      "enter the stringYing\n",
      "ASCII value of charcters are\n",
      "Y = 89\n",
      "i = 105\n",
      "n = 110\n",
      "g = 103\n"
     ]
    }
   ],
   "source": [
    "s=input(\"enter the string\")\n",
    "l=len(s)\n",
    "print(\"ASCII value of charcters are\")\n",
    "for i in range(0,l):\n",
    "    print(s[i],\"=\",ord(s[i]))\n",
    "    "
   ]
  },
  {
   "cell_type": "code",
   "execution_count": 7,
   "id": "2b55a1a2",
   "metadata": {},
   "outputs": [
    {
     "name": "stdout",
     "output_type": "stream",
     "text": [
      "enter the stringdfshugfgvnuyuenyvioer\n",
      "frequency of a is0\n",
      "frequency of e is2\n",
      "frequency of i is1\n",
      "frequency of o is1\n",
      "frequency of u is3\n"
     ]
    }
   ],
   "source": [
    "s=input(\"enter the string\")\n",
    "print(\"frequency of a is\",end=\"\")\n",
    "print(s.count(\"a\"))\n",
    "print(\"frequency of e is\",end=\"\")\n",
    "print(s.count(\"e\"))\n",
    "print(\"frequency of i is\",end=\"\")\n",
    "print(s.count(\"i\"))\n",
    "print(\"frequency of o is\",end=\"\")\n",
    "print(s.count(\"o\"))\n",
    "print(\"frequency of u is\",end=\"\")\n",
    "print(s.count(\"u\"))\n"
   ]
  },
  {
   "cell_type": "code",
   "execution_count": 1,
   "id": "7e4d8afd",
   "metadata": {},
   "outputs": [
    {
     "name": "stdout",
     "output_type": "stream",
     "text": [
      "enter the stringying bing zing\n",
      "Ying Bing Zing\n"
     ]
    }
   ],
   "source": [
    "s=input(\"enter the string\")\n",
    "print(s.title())"
   ]
  },
  {
   "cell_type": "code",
   "execution_count": 2,
   "id": "9ed9a604",
   "metadata": {},
   "outputs": [
    {
     "name": "stdout",
     "output_type": "stream",
     "text": [
      "enter the stringkArA sMiTh\n",
      "KaRa SmItH\n"
     ]
    }
   ],
   "source": [
    "s=input(\"enter the string\")\n",
    "print(s.swapcase())"
   ]
  },
  {
   "cell_type": "code",
   "execution_count": 3,
   "id": "6bd4bf43",
   "metadata": {},
   "outputs": [
    {
     "name": "stdout",
     "output_type": "stream",
     "text": [
      "enter the stringc.v raman global university\n",
      "the largest word is  university\n"
     ]
    }
   ],
   "source": [
    "s=input(\"enter the string\")\n",
    "sp=s.split()\n",
    "l=len(sp)\n",
    "ln=[]\n",
    "for i in range(0,l):\n",
    "    ln.append(len(sp[i]))\n",
    "m=0\n",
    "for i in range(0,l):\n",
    "    if(m<int(ln[i])):\n",
    "        m=ln[i]\n",
    "        n=i\n",
    "print(\"the largest word is \",sp[n])\n",
    "    \n"
   ]
  },
  {
   "cell_type": "code",
   "execution_count": 11,
   "id": "eb8bbf51",
   "metadata": {},
   "outputs": [
    {
     "name": "stdout",
     "output_type": "stream",
     "text": [
      "enter the stringc.v raman college of global studies\n",
      "the smallest word is  of\n"
     ]
    }
   ],
   "source": [
    "s=input(\"enter the string\")\n",
    "sp=s.split()\n",
    "I=len(sp)\n",
    "In=[]\n",
    "for i in range(0,I):\n",
    "    In.append(len(sp[i]))\n",
    "m=1000\n",
    "for i in range(0,I):\n",
    "    if(m>int (In[i])):\n",
    "        m=In[i]\n",
    "        n=i\n",
    "print(\"the smallest word is \",sp[n])"
   ]
  },
  {
   "cell_type": "code",
   "execution_count": null,
   "id": "64793fb7",
   "metadata": {},
   "outputs": [],
   "source": []
  }
 ],
 "metadata": {
  "kernelspec": {
   "display_name": "Python 3 (ipykernel)",
   "language": "python",
   "name": "python3"
  },
  "language_info": {
   "codemirror_mode": {
    "name": "ipython",
    "version": 3
   },
   "file_extension": ".py",
   "mimetype": "text/x-python",
   "name": "python",
   "nbconvert_exporter": "python",
   "pygments_lexer": "ipython3",
   "version": "3.9.7"
  }
 },
 "nbformat": 4,
 "nbformat_minor": 5
}
