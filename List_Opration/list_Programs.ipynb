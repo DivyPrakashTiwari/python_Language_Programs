{
 "cells": [
  {
   "cell_type": "code",
   "execution_count": 7,
   "id": "b32b5d65",
   "metadata": {},
   "outputs": [
    {
     "name": "stdout",
     "output_type": "stream",
     "text": [
      "NAME : DIVY\n",
      "ROLL : CSF21034\n",
      "REGD : 2101020449\n",
      "BRANCH: CSF\n"
     ]
    }
   ],
   "source": [
    "l=[\"NAME : DIVY\",\"ROLL : CSF21034\",\"REGD : 2101020449\" , \"BRANCH: CSF\"]\n",
    "for i in range(4):\n",
    "    print(l[i])\n",
    "    i=i+1"
   ]
  },
  {
   "cell_type": "code",
   "execution_count": 15,
   "id": "f061bfd1",
   "metadata": {},
   "outputs": [
    {
     "name": "stdout",
     "output_type": "stream",
     "text": [
      "even numbers are\n",
      "24\n",
      "32\n"
     ]
    }
   ],
   "source": [
    "l=[24,21,69,32,47]\n",
    "print(\"even numbers are\")\n",
    "for i in range(4):\n",
    "    if(l[i]%2==0):\n",
    "        print(l[i])\n",
    "    \n",
    "\n"
   ]
  },
  {
   "cell_type": "code",
   "execution_count": 10,
   "id": "d7459fb3",
   "metadata": {},
   "outputs": [
    {
     "name": "stdout",
     "output_type": "stream",
     "text": [
      "[1, 2, 3, 4, 5, 6, 7, 8, 9, 10]\n"
     ]
    }
   ],
   "source": [
    "l1=[1,2,3,4,5]\n",
    "l2=[6,7,8,9,10]\n",
    "l1=l1+l2\n",
    "print(l1)"
   ]
  },
  {
   "cell_type": "code",
   "execution_count": 24,
   "id": "25569cc0",
   "metadata": {},
   "outputs": [
    {
     "name": "stdout",
     "output_type": "stream",
     "text": [
      "47\n",
      "21\n",
      "69\n",
      "32\n",
      "24\n"
     ]
    }
   ],
   "source": [
    "l=[24,21,69,32,47]\n",
    "a=l[0]\n",
    "l[0]=l[4]\n",
    "l[4]=a\n",
    "for i in range(5):\n",
    "    print(l[i])\n",
    "    i=i+1"
   ]
  },
  {
   "cell_type": "code",
   "execution_count": 18,
   "id": "b933af5f",
   "metadata": {},
   "outputs": [
    {
     "name": "stdout",
     "output_type": "stream",
     "text": [
      "yes in ascending order\n"
     ]
    }
   ],
   "source": [
    "l=[21,22,23,69,77]\n",
    "k=0\n",
    "for i in range(5):\n",
    "    if(i==4):\n",
    "        break\n",
    "    if(l[i]>l[i+1]):\n",
    "        k=k+1\n",
    "        break\n",
    "if(k==1):\n",
    "    print(\"not in ascending order\")\n",
    "else:\n",
    "    print(\"yes in ascending order\")"
   ]
  },
  {
   "cell_type": "code",
   "execution_count": 21,
   "id": "7e59e86e",
   "metadata": {},
   "outputs": [
    {
     "name": "stdout",
     "output_type": "stream",
     "text": [
      "enter the number of element in list5\n",
      "enter the element to the list\n",
      "7\n",
      "8\n",
      "9\n",
      "4\n",
      "5\n",
      "the element of the list are\n",
      "7 8 9 4 5 "
     ]
    }
   ],
   "source": [
    "n=int(input(\"enter the number of element in list\"))\n",
    "l=[]\n",
    "print(\"enter the element to the list\")\n",
    "for i in range(0,n):\n",
    "    a=int(input())\n",
    "    l.append(a)\n",
    "print(\"the element of the list are\")\n",
    "for i in range(n):\n",
    "    print(l[i],end=\" \")\n",
    "    i=i+1\n",
    "    "
   ]
  },
  {
   "cell_type": "code",
   "execution_count": 23,
   "id": "d17eb989",
   "metadata": {},
   "outputs": [
    {
     "name": "stdout",
     "output_type": "stream",
     "text": [
      "enter the number of element in list5\n",
      "enter the element to the list\n",
      "7\n",
      "4\n",
      "29\n",
      "11\n",
      "3\n",
      "the sum of elemnts of the list is  54\n"
     ]
    }
   ],
   "source": [
    "n=int(input(\"enter the number of element in list\"))\n",
    "l=[]\n",
    "s=0\n",
    "print(\"enter the element to the list\")\n",
    "for i in range(0,n):\n",
    "    a=int(input())\n",
    "    l.append(a)\n",
    "for i in range(n):\n",
    "    s =s +l[i]\n",
    "print(\"the sum of elemnts of the list is \",s)\n",
    "    "
   ]
  },
  {
   "cell_type": "code",
   "execution_count": 1,
   "id": "99d0f52a",
   "metadata": {},
   "outputs": [
    {
     "name": "stdout",
     "output_type": "stream",
     "text": [
      "enter the number of element in list5\n",
      "enter the element to the list\n",
      "1\n",
      "2\n",
      "23\n",
      "545\n",
      "5\n",
      "1\n",
      "2\n",
      "23\n",
      "545\n"
     ]
    }
   ],
   "source": [
    "n=int(input(\"enter the number of element in list\"))\n",
    "l=[]\n",
    "s=0\n",
    "print(\"enter the element to the list\")\n",
    "for i in range(0,n):\n",
    "    a=int(input())\n",
    "    l.append(a)\n",
    "for w in range(0,n):\n",
    "    for j in range(w+1,n):\n",
    "        if(l[w]==l[j]):\n",
    "            l.pop(w)\n",
    "        j=j+1\n",
    "    i=i+1\n",
    "for k in range(n-1):\n",
    "    print(l[k])\n",
    "    i=i+1\n"
   ]
  },
  {
   "cell_type": "code",
   "execution_count": 3,
   "id": "be1b2a6f",
   "metadata": {},
   "outputs": [
    {
     "name": "stdout",
     "output_type": "stream",
     "text": [
      "[1, 3, 5, 9, 11]\n"
     ]
    }
   ],
   "source": [
    "\n",
    "lis=[1,2,3,2,5,7,9,10,11]\n",
    "for i in range(n):\n",
    "    for j in range(1,n):\n",
    "        if(lis[i]==lis[j]):\n",
    "            lis.pop(i)\n",
    "print(lis)\n"
   ]
  },
  {
   "cell_type": "code",
   "execution_count": 5,
   "id": "a631066e",
   "metadata": {},
   "outputs": [
    {
     "name": "stdout",
     "output_type": "stream",
     "text": [
      "maximum  69\n",
      "minimum  7\n"
     ]
    }
   ],
   "source": [
    "\n",
    "lis=[11,21,30,29,55,7,69,10]\n",
    "ma=0\n",
    "mi=lis[0]\n",
    "for i in range(0,8):\n",
    "    if(ma<=lis[i]):\n",
    "        ma=lis[i]\n",
    "    elif(mi>=lis[i]):\n",
    "        mi=lis[i]\n",
    "    else:\n",
    "        continue\n",
    "    i=i+1\n",
    "print(\"maximum \",ma)\n",
    "print(\"minimum \",mi)\n"
   ]
  },
  {
   "cell_type": "code",
   "execution_count": 12,
   "id": "320851cf",
   "metadata": {},
   "outputs": [
    {
     "name": "stdout",
     "output_type": "stream",
     "text": [
      "111\n",
      "29\n",
      "10\n",
      "7\n"
     ]
    }
   ],
   "source": [
    "lis=[111,29,30,21,55,10,69,7]\n",
    "lista=[29,11,7,12,247,17,10,3]\n",
    "for i in range(0,8):\n",
    "    for j in range(0,8):\n",
    "        if(lis[i]==lista[j]):\n",
    "            a=lis[i]\n",
    "            print(lis[i])\n",
    "            j=j+1\n",
    "    i=i+1"
   ]
  },
  {
   "cell_type": "code",
   "execution_count": null,
   "id": "8e9f9ef2",
   "metadata": {},
   "outputs": [],
   "source": []
  }
 ],
 "metadata": {
  "kernelspec": {
   "display_name": "Python 3 (ipykernel)",
   "language": "python",
   "name": "python3"
  },
  "language_info": {
   "codemirror_mode": {
    "name": "ipython",
    "version": 3
   },
   "file_extension": ".py",
   "mimetype": "text/x-python",
   "name": "python",
   "nbconvert_exporter": "python",
   "pygments_lexer": "ipython3",
   "version": "3.9.7"
  }
 },
 "nbformat": 4,
 "nbformat_minor": 5
}
