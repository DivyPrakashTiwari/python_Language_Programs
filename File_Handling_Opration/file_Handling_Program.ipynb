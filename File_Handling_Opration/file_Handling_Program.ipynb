{
 "cells": [
  {
   "cell_type": "code",
   "execution_count": 5,
   "id": "c1785012",
   "metadata": {},
   "outputs": [
    {
     "name": "stdout",
     "output_type": "stream",
     "text": [
      "JO BABA KO BHULEGA \n",
      "JO BABA KO TEL DEGA \n",
      "SARI CHINTA BHUL JA \n",
      "GALI GALI ME HALA H\n",
      "GALI GALI SOR H \n",
      "\n"
     ]
    }
   ],
   "source": [
    "f=open(\"p.txt\",\"r\")\n",
    "print(f.read())\n",
    "f.close()"
   ]
  },
  {
   "cell_type": "code",
   "execution_count": 13,
   "id": "c1ae741b",
   "metadata": {},
   "outputs": [
    {
     "name": "stdout",
     "output_type": "stream",
     "text": [
      "JO BABA KO BHULEGA \n",
      "\n"
     ]
    },
    {
     "data": {
      "text/plain": [
       "<function TextIOWrapper.close()>"
      ]
     },
     "execution_count": 13,
     "metadata": {},
     "output_type": "execute_result"
    }
   ],
   "source": [
    "f=open(\"C:\\\\Users\\\\DIVY PRAKASH TIWARI\\\\Desktop\\\\P.txt\",\"r\")\n",
    "print(f.read(20))\n",
    "f.close\n"
   ]
  },
  {
   "cell_type": "code",
   "execution_count": 2,
   "id": "9682491a",
   "metadata": {},
   "outputs": [
    {
     "name": "stdout",
     "output_type": "stream",
     "text": [
      "jai ho\n",
      "enter the stringjahidsu\n",
      "jahidsu\n"
     ]
    },
    {
     "data": {
      "text/plain": [
       "<function TextIOWrapper.close()>"
      ]
     },
     "execution_count": 2,
     "metadata": {},
     "output_type": "execute_result"
    }
   ],
   "source": [
    "f=open(\"C:\\\\Users\\\\DIVY PRAKASH TIWARI\\\\Desktop\\\\P.txt\",\"r\")\n",
    "print(f.read())\n",
    "f=open(\"C:\\\\Users\\\\DIVY PRAKASH TIWARI\\\\Desktop\\\\P.txt\",\"w\")\n",
    "s=input(\"enter the string\")\n",
    "f.write(s)\n",
    "f=open(\"C:\\\\Users\\\\DIVY PRAKASH TIWARI\\\\Desktop\\\\P.txt\",\"r\")\n",
    "print(f.read())\n",
    "f.close"
   ]
  },
  {
   "cell_type": "code",
   "execution_count": 6,
   "id": "3b9ecd4e",
   "metadata": {},
   "outputs": [
    {
     "name": "stdout",
     "output_type": "stream",
     "text": [
      "jai hojai hojai hojai hojai ho\n",
      "\n"
     ]
    }
   ],
   "source": [
    "f=open(\"p.txt\",\"r+\")\n",
    "print(f.read())\n",
    "f.write(\"jai ho\")\n",
    "print(f.read())\n",
    "f.close()"
   ]
  },
  {
   "cell_type": "code",
   "execution_count": 9,
   "id": "85be78ea",
   "metadata": {},
   "outputs": [
    {
     "name": "stdout",
     "output_type": "stream",
     "text": [
      "JO BABA KO BHULEGA \n",
      "JO BABA KO TEL DEGA \n",
      "SARI CHINTA BHUL JA \n",
      "GALI GALI ME HALA H\n",
      "GALI GALI SOR H \n"
     ]
    }
   ],
   "source": [
    "f=open(\"pr.txt\",\"r\")\n",
    "print(f.read())\n",
    "f.close()"
   ]
  },
  {
   "cell_type": "code",
   "execution_count": 11,
   "id": "80e767d6",
   "metadata": {},
   "outputs": [
    {
     "name": "stdout",
     "output_type": "stream",
     "text": [
      "enter the number of lines to be read2\n",
      "JO BABA KO BHULEGA \n",
      "\n",
      "JO BABA KO TEL DEGA \n",
      "\n"
     ]
    }
   ],
   "source": [
    "n=int(input(\"enter the number of lines to be read\"))\n",
    "f=open(\"pr.txt\",\"r\")\n",
    "for i in range(n):\n",
    "    print(f.readline())\n",
    "f.close()"
   ]
  },
  {
   "cell_type": "code",
   "execution_count": 1,
   "id": "9d5965ed",
   "metadata": {},
   "outputs": [
    {
     "name": "stdout",
     "output_type": "stream",
     "text": [
      "enter the string to the filef\n",
      "a b c d f\n"
     ]
    }
   ],
   "source": [
    "f=open(\"p.txt\",\"a\")\n",
    "s=input(\"enter the string to the file\")\n",
    "f.write(s)\n",
    "f=open(\"p.txt\",\"r\")\n",
    "print(f.read())\n",
    "f.close()"
   ]
  },
  {
   "cell_type": "code",
   "execution_count": 16,
   "id": "afb1460d",
   "metadata": {},
   "outputs": [
    {
     "name": "stdout",
     "output_type": "stream",
     "text": [
      "['JO', 'BABA', 'KO', 'BHULEGA', 'JO', 'BABA', 'KO', 'TEL', 'DEGA', 'SARI', 'CHINTA', 'BHUL', 'JA', 'GALI', 'GALI', 'ME', 'HALA', 'H', 'GALI', 'GALI', 'SOR', 'H']\n",
      "22\n",
      "BHULEGA\n"
     ]
    }
   ],
   "source": [
    "f=open(\"pr.txt\",\"r\")\n",
    "ar=[]\n",
    "ar=f.read()\n",
    "w=ar.split()\n",
    "l=len(w)\n",
    "max=0\n",
    "for i in w:\n",
    "    ln=len(i)\n",
    "    if(ln>max):\n",
    "        max=ln\n",
    "        m=i\n",
    "print(m)\n",
    "f.close()"
   ]
  },
  {
   "cell_type": "code",
   "execution_count": 25,
   "id": "8867cd86",
   "metadata": {},
   "outputs": [
    {
     "name": "stdout",
     "output_type": "stream",
     "text": [
      "the first 6 characters are  JO BAB\n"
     ]
    }
   ],
   "source": [
    "f=open(\"pr.txt\",\"r\")\n",
    "print(\"the first 6 characters are \",f.read(6))\n",
    "f.close()"
   ]
  },
  {
   "cell_type": "code",
   "execution_count": 23,
   "id": "dff31061",
   "metadata": {},
   "outputs": [
    {
     "name": "stdout",
     "output_type": "stream",
     "text": [
      "arre baap re delete ho gaya suub\n",
      "arre baap re delete ho gaya suub\n"
     ]
    }
   ],
   "source": [
    "f=open(\"C:\\\\Users\\\\DIVY PRAKASH TIWARI\\\\Desktop\\\\P.txt\",\"r\")\n",
    "print(f.read())\n",
    "f=open(\"C:\\\\Users\\\\DIVY PRAKASH TIWARI\\\\Desktop\\\\P.txt\",\"w\")\n",
    "f.write(\"arre baap re delete ho gaya suub\")\n",
    "f=open(\"C:\\\\Users\\\\DIVY PRAKASH TIWARI\\\\Desktop\\\\P.txt\",\"r\")\n",
    "print(f.read())\n",
    "f.close()"
   ]
  },
  {
   "cell_type": "code",
   "execution_count": 24,
   "id": "c7a98e3b",
   "metadata": {},
   "outputs": [
    {
     "name": "stdout",
     "output_type": "stream",
     "text": [
      "GALI GALI SOR H \n"
     ]
    }
   ],
   "source": [
    "f=open(\"pr.txt\",\"r\")\n",
    "ar=[]\n",
    "for i in range(5):\n",
    "    ar.append(f.readline())\n",
    "l=len(ar)\n",
    "print(ar[l-1])\n",
    "f.close()"
   ]
  },
  {
   "cell_type": "code",
   "execution_count": 6,
   "id": "edcc4f18",
   "metadata": {},
   "outputs": [
    {
     "name": "stdout",
     "output_type": "stream",
     "text": [
      "enter the length of list5\n",
      "enter the element of list\n",
      "5\n",
      "5\n",
      "5\n",
      "5\n",
      "5\n",
      "the absolute value are \n",
      "5\n",
      "5\n",
      "5\n",
      "5\n",
      "5\n",
      "the maximum value is  5\n",
      "the minimum value is  5\n",
      "the reverse is  [5, 5, 5, 5, 5]\n",
      "the power are\n",
      "9765625\n",
      "(5, 10)\n",
      "9765625\n",
      "(5, 10)\n",
      "9765625\n",
      "(5, 10)\n",
      "9765625\n",
      "(5, 10)\n",
      "9765625\n",
      "(5, 10)\n"
     ]
    }
   ],
   "source": [
    "#abs\n",
    "#max\n",
    "#min\n",
    "#reverse 20 to 10\n",
    "#pow 5 to power 10\n",
    "l=int(input(\"enter the length of list\"))\n",
    "print(\"enter the element of list\")\n",
    "ar=[]\n",
    "for i in range(l):\n",
    "    a=int(input())\n",
    "    ar.append(a)\n",
    "print(\"the absolute value are \")\n",
    "for i in range(l):\n",
    "    print(abs(ar[i]))\n",
    "print(\"the maximum value is \",max(ar))\n",
    "print(\"the minimum value is \",min(ar))\n",
    "print(\"the reverse is \",ar[::-1])\n",
    "print(\"the power are\")\n",
    "for i in range(l):\n",
    "    print(pow(ar[i],10))\n",
    "    print((ar[i],10))\n",
    "\n"
   ]
  },
  {
   "cell_type": "code",
   "execution_count": 3,
   "id": "ff81e889",
   "metadata": {},
   "outputs": [
    {
     "name": "stdout",
     "output_type": "stream",
     "text": [
      "<re.Match object; span=(4, 5), match='r'>\n"
     ]
    }
   ],
   "source": [
    "import re\n",
    "\n",
    "txt = \"The rain in Spain\"\n",
    "x = re.search(\"r\", txt)\n",
    "print(x)\n"
   ]
  },
  {
   "cell_type": "code",
   "execution_count": 4,
   "id": "12c83eff",
   "metadata": {},
   "outputs": [
    {
     "name": "stdout",
     "output_type": "stream",
     "text": [
      "['ai', 'ai']\n"
     ]
    }
   ],
   "source": [
    "import re\n",
    "\n",
    "txt = \"The rain in Spain\"\n",
    "x = re.findall(\"ai\", txt)\n",
    "print(x)"
   ]
  },
  {
   "cell_type": "code",
   "execution_count": 5,
   "id": "a0b113b8",
   "metadata": {},
   "outputs": [
    {
     "name": "stdout",
     "output_type": "stream",
     "text": [
      "['The', 'rain', 'in', 'Spain']\n"
     ]
    }
   ],
   "source": [
    "import re\n",
    "\n",
    "txt = \"The rain in Spain\"\n",
    "x = re.split(\"\\s\", txt)\n",
    "print(x)\n"
   ]
  },
  {
   "cell_type": "code",
   "execution_count": null,
   "id": "81d4999d",
   "metadata": {},
   "outputs": [],
   "source": []
  }
 ],
 "metadata": {
  "kernelspec": {
   "display_name": "Python 3 (ipykernel)",
   "language": "python",
   "name": "python3"
  },
  "language_info": {
   "codemirror_mode": {
    "name": "ipython",
    "version": 3
   },
   "file_extension": ".py",
   "mimetype": "text/x-python",
   "name": "python",
   "nbconvert_exporter": "python",
   "pygments_lexer": "ipython3",
   "version": "3.11.7"
  }
 },
 "nbformat": 4,
 "nbformat_minor": 5
}
